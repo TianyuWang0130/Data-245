{
 "cells": [
  {
   "cell_type": "code",
   "execution_count": 8,
   "id": "19152137",
   "metadata": {},
   "outputs": [],
   "source": [
    "!cd D:\\handwritten"
   ]
  },
  {
   "cell_type": "code",
   "execution_count": 1,
   "id": "42c111fe",
   "metadata": {},
   "outputs": [],
   "source": [
    "import xml.etree.ElementTree as ET"
   ]
  },
  {
   "cell_type": "code",
   "execution_count": 5,
   "id": "a9a62241",
   "metadata": {},
   "outputs": [
    {
     "data": {
      "text/plain": [
       "[('a01-000u-00-00', 'A'),\n",
       " ('a01-000u-00-01', 'MOVE'),\n",
       " ('a01-000u-00-02', 'to'),\n",
       " ('a01-000u-00-03', 'stop'),\n",
       " ('a01-000u-00-04', 'Mr.'),\n",
       " ('a01-000u-00-05', 'Gaitskell'),\n",
       " ('a01-000u-00-06', 'from'),\n",
       " ('a01-000u-01-00', 'nominating'),\n",
       " ('a01-000u-01-01', 'any'),\n",
       " ('a01-000u-01-02', 'more'),\n",
       " ('a01-000u-01-03', 'Labour'),\n",
       " ('a01-000u-01-04', 'life'),\n",
       " ('a01-000u-01-05', 'Peers'),\n",
       " ('a01-000u-02-00', 'is'),\n",
       " ('a01-000u-02-01', 'to'),\n",
       " ('a01-000u-02-02', 'be'),\n",
       " ('a01-000u-02-03', 'made'),\n",
       " ('a01-000u-02-04', 'at'),\n",
       " ('a01-000u-02-05', 'a'),\n",
       " ('a01-000u-02-06', 'meeting'),\n",
       " ('a01-000u-02-07', 'of'),\n",
       " ('a01-000u-02-08', 'Labour'),\n",
       " ('a01-000u-03-00', 'M Ps'),\n",
       " ('a01-000u-03-01', 'tomorrow'),\n",
       " ('a01-000u-03-02', '.'),\n",
       " ('a01-000u-03-03', 'Mr.'),\n",
       " ('a01-000u-03-04', 'Michael'),\n",
       " ('a01-000u-03-05', 'Foot'),\n",
       " ('a01-000u-03-06', 'has'),\n",
       " ('a01-000u-04-00', 'put'),\n",
       " ('a01-000u-04-01', 'down'),\n",
       " ('a01-000u-04-02', 'a'),\n",
       " ('a01-000u-04-03', 'resolution'),\n",
       " ('a01-000u-04-04', 'on'),\n",
       " ('a01-000u-04-05', 'the'),\n",
       " ('a01-000u-04-06', 'subject'),\n",
       " ('a01-000u-05-00', 'and'),\n",
       " ('a01-000u-05-01', 'he'),\n",
       " ('a01-000u-05-02', 'is'),\n",
       " ('a01-000u-05-03', 'to'),\n",
       " ('a01-000u-05-04', 'be'),\n",
       " ('a01-000u-05-05', 'backed'),\n",
       " ('a01-000u-05-06', 'by'),\n",
       " ('a01-000u-05-07', 'Mr.'),\n",
       " ('a01-000u-05-08', 'Will'),\n",
       " ('a01-000u-06-00', 'Griffiths'),\n",
       " ('a01-000u-06-01', ','),\n",
       " ('a01-000u-06-02', 'M P'),\n",
       " ('a01-000u-06-03', 'for'),\n",
       " ('a01-000u-06-04', 'Manchester'),\n",
       " ('a01-000u-06-05', 'Exchange'),\n",
       " ('a01-000u-06-06', '.')]"
      ]
     },
     "execution_count": 5,
     "metadata": {},
     "output_type": "execute_result"
    }
   ],
   "source": [
    "# 加载 XML 文件\n",
    "tree = ET.parse(\"D:/handwritten/xml/a01-000u.xml\")\n",
    "root = tree.getroot()\n",
    "\n",
    "# 获取手写部分的文本内容和单词标签\n",
    "words = []\n",
    "for word in root.findall(\".//handwritten-part/line/word\"):\n",
    "    word_text = word.attrib['text']\n",
    "    word_id = word.attrib['id']\n",
    "    words.append((word_id, word_text))\n",
    "\n",
    "words"
   ]
  },
  {
   "cell_type": "code",
   "execution_count": 14,
   "id": "ea0cc0ad",
   "metadata": {},
   "outputs": [
    {
     "data": {
      "text/plain": [
       "'a01-000u-00-00'"
      ]
     },
     "execution_count": 14,
     "metadata": {},
     "output_type": "execute_result"
    }
   ],
   "source": [
    "words[0][0]"
   ]
  },
  {
   "cell_type": "code",
   "execution_count": 16,
   "id": "6f3765d2",
   "metadata": {},
   "outputs": [],
   "source": [
    "from PIL import Image\n",
    "\n",
    "image_path = 'D:/handwritten/words/a01/a01-000u/a01-000u-00-00.png'\n",
    "\n",
    "# 加载PNG图像\n",
    "word_image = Image.open(image_path)\n",
    "\n",
    "word_image.show()  # 显示图像以验证是否正确加载"
   ]
  },
  {
   "cell_type": "code",
   "execution_count": null,
   "id": "2c9b9f83",
   "metadata": {},
   "outputs": [],
   "source": []
  }
 ],
 "metadata": {
  "kernelspec": {
   "display_name": "Python 3.9 (tensorflow)",
   "language": "python",
   "name": "tensorflow"
  },
  "language_info": {
   "codemirror_mode": {
    "name": "ipython",
    "version": 3
   },
   "file_extension": ".py",
   "mimetype": "text/x-python",
   "name": "python",
   "nbconvert_exporter": "python",
   "pygments_lexer": "ipython3",
   "version": "3.9.19"
  }
 },
 "nbformat": 4,
 "nbformat_minor": 5
}
