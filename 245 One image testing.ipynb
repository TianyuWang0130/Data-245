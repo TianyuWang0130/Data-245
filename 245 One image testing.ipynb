{
 "cells": [
  {
   "cell_type": "code",
   "execution_count": 1,
   "id": "017706e8",
   "metadata": {},
   "outputs": [
    {
     "name": "stdout",
     "output_type": "stream",
     "text": [
      "C:\\Users\\Administrator\n",
      "D:\\handwritten\n"
     ]
    }
   ],
   "source": [
    "import os\n",
    "print(os.getcwd())\n",
    "os.chdir('D:/handwritten')\n",
    "print(os.getcwd())"
   ]
  },
  {
   "cell_type": "code",
   "execution_count": 15,
   "id": "a129d01b",
   "metadata": {},
   "outputs": [
    {
     "data": {
      "image/png": "[encoded data removed]",
      "text/plain": [
       "<Figure size 1000x500 with 2 Axes>"
      ]
     },
     "metadata": {},
     "output_type": "display_data"
    }
   ],
   "source": [
    "def resize_and_pad(img, desired_size=64):\n",
    "    # Calculate proportional scaling ratio\n",
    "    ratio = desired_size / max(img.size)\n",
    "    new_size = (int(img.size[0] * ratio), int(img.size[1] * ratio))\n",
    "    img = img.resize(new_size, Image.LANCZOS)\n",
    "\n",
    "    # Create a new background canvas\n",
    "    new_img = Image.new(\"L\", (desired_size, desired_size), \"black\")\n",
    "    # Paste the image in the center\n",
    "    new_img.paste(img, ((desired_size - new_size[0]) // 2, (desired_size - new_size[1]) // 2))\n",
    "\n",
    "    return new_img\n",
    "\n",
    "import numpy as np\n",
    "from PIL import Image\n",
    "import matplotlib.pyplot as plt\n",
    "\n",
    "def process_image(image_path):\n",
    "    # Load the image and convert it to grayscale\n",
    "    image = Image.open(image_path).convert('L')\n",
    "\n",
    "    # Resize and pad the image\n",
    "    image = resize_and_pad(image, 64)\n",
    "\n",
    "    # Convert the image to an array\n",
    "    image_array = np.array(image)\n",
    "\n",
    "    # Flatten the image to one-dimensional\n",
    "    image_flattened = image_array.flatten()\n",
    "\n",
    "    return image_flattened\n",
    "\n",
    "# Load and process the image\n",
    "image_path = 'wastest.png'\n",
    "image_before = Image.open(image_path)\n",
    "\n",
    "image_after = process_image(image_path)\n",
    "\n",
    "# Plot the original and processed images\n",
    "plt.figure(figsize=(10, 5))\n",
    "\n",
    "plt.subplot(1, 2, 1)\n",
    "plt.imshow(image_before, cmap='gray')\n",
    "plt.title('Original Image')\n",
    "plt.axis('off')\n",
    "\n",
    "plt.subplot(1, 2, 2)\n",
    "plt.imshow(image_after.reshape(64, 64), cmap='gray')\n",
    "plt.title('Processed Image')\n",
    "plt.axis('off')\n",
    "\n",
    "plt.show()"
   ]
  },
  {
   "cell_type": "code",
   "execution_count": 16,
   "id": "ec743d4c",
   "metadata": {},
   "outputs": [
    {
     "data": {
      "text/plain": [
       "(4096,)"
      ]
     },
     "execution_count": 16,
     "metadata": {},
     "output_type": "execute_result"
    }
   ],
   "source": [
    "image_after.shape"
   ]
  },
  {
   "cell_type": "markdown",
   "id": "0dc3f5bf",
   "metadata": {},
   "source": [
    "# One image test \n",
    "(Must have pca_model.joblib, scaler_model.joblib)"
   ]
  },
  {
   "cell_type": "code",
   "execution_count": 49,
   "id": "f533782b",
   "metadata": {},
   "outputs": [],
   "source": [
    "\n",
    "image_path = 'thetest.png'# Load and preprocess the single image\n",
    "\n",
    "from PIL import Image\n",
    "import numpy as np\n",
    "from joblib import load\n",
    "\n",
    "# Load the PCA model from the saved file\n",
    "loaded_pca = load('pca_model.joblib')\n",
    "\n",
    "# Load the StandardScaler object\n",
    "loaded_scaler = load('scaler_model.joblib')\n",
    "\n",
    "image = Image.open(image_path).convert('L')  # Convert to grayscale\n",
    "image_resized = resize_and_pad(image, desired_size=64)  # Resize and pad if needed\n",
    "\n",
    "# Convert the resized image to a numpy array\n",
    "image_array = np.array(image_resized)\n",
    "\n",
    "# Flatten the image to one-dimensional\n",
    "image_flattened = image_array.flatten()\n",
    "\n",
    "# Standardize the flattened image using the loaded StandardScaler object\n",
    "image_standardized = loaded_scaler.transform([image_flattened])\n",
    "\n",
    "# Apply PCA transformation\n",
    "image_transformed = loaded_pca.transform(image_standardized)\n",
    "\n",
    "# Now image_transformed contains the reduced-dimensional representation of the standardized image\n"
   ]
  },
  {
   "cell_type": "code",
   "execution_count": 51,
   "id": "69ca77a5",
   "metadata": {
    "scrolled": true
   },
   "outputs": [
    {
     "name": "stdout",
     "output_type": "stream",
     "text": [
      "{\n",
      "  \"instances\": [\n",
      "    [\n",
      "      -2.8337342666794014,\n",
      "      -46.33467420073745,\n",
      "      -12.245397765087063,\n",
      "      -15.50964497002624,\n",
      "      9.689643529133372,\n",
      "      -4.845954426224482,\n",
      "      -10.862530381611197,\n",
      "      -7.230308491787438,\n",
      "      -3.0771061435196643,\n",
      "      1.9004200679691272,\n",
      "      8.294556357982096,\n",
      "      7.410895112501139,\n",
      "      0.905106571281913,\n",
      "      -2.772359332681694,\n",
      "      -4.439189671578898,\n",
      "      -5.388603178144655,\n",
      "      -5.3484271945849455,\n",
      "      0.6427110649949022,\n",
      "      -0.5063009738688447,\n",
      "      3.421343072007672,\n",
      "      4.401868902040938,\n",
      "      -3.6159006153685445,\n",
      "      -2.3671781535044456,\n",
      "      -0.3372131395508348,\n",
      "      0.36379104825209757,\n",
      "      -3.0010318858238545,\n",
      "      2.5795476287822985,\n",
      "      -0.9613940523244769,\n",
      "      1.5902804913416406,\n",
      "      2.8740750961507606,\n",
      "      1.0702111872484834,\n",
      "      -1.4207205009429271,\n",
      "      4.304976677859985,\n",
      "      -3.0398251977315685,\n",
      "      1.3305966192152878,\n",
      "      -1.1834102548946466,\n",
      "      -3.221954712204874,\n",
      "      0.24260434401412415,\n",
      "      -0.32433753615553945,\n",
      "      0.64922976842796,\n",
      "      -0.15862335738807654,\n",
      "      0.05939666773985649,\n",
      "      -3.677825487642667,\n",
      "      0.8596647795994216,\n",
      "      -0.22009299363143622,\n",
      "      -0.449289804467242,\n",
      "      1.5474306769181432,\n",
      "      -3.5661403588724543,\n",
      "      1.2797445346501803,\n",
      "      1.6821218408128682,\n",
      "      0.9143222153713129,\n",
      "      -1.6549135833878679,\n",
      "      0.13566970352002394,\n",
      "      -2.313950350085314,\n",
      "      -1.1143005863167759,\n",
      "      0.3805571680996182,\n",
      "      0.8081250061011589,\n",
      "      -1.1865748746284646,\n",
      "      -3.020588829041966,\n",
      "      0.5402590981357498,\n",
      "      1.5351875129417007,\n",
      "      -0.2243506173287474,\n",
      "      -0.8980401672479166,\n",
      "      -0.21534891715969606,\n",
      "      -0.03867335635227509,\n",
      "      0.6029905877280965,\n",
      "      1.092278453319649,\n",
      "      1.3665552652805493,\n",
      "      -0.14398376091636889,\n",
      "      -2.3779645216897696,\n",
      "      -0.08251570004040926,\n",
      "      0.2729818529723365,\n",
      "      0.29610079872580525,\n",
      "      -1.3748807716627582,\n",
      "      1.617574620680698,\n",
      "      0.4695870936610366,\n",
      "      -0.7087467528726592,\n",
      "      2.0581118152867406,\n",
      "      -0.14017352338357292,\n",
      "      0.830637748771183,\n",
      "      0.5491657641910113,\n",
      "      0.873454693948345,\n",
      "      1.6519047578518182,\n",
      "      -0.3026320487748469,\n",
      "      0.6981484292748364,\n",
      "      0.3264572509120068,\n",
      "      -3.277946521947932,\n",
      "      -0.12242884598031484,\n",
      "      -0.30923853094238324,\n",
      "      -0.7511078030580995,\n",
      "      1.1715556962299476,\n",
      "      -0.3616668023732963\n",
      "    ]\n",
      "  ]\n",
      "}\n"
     ]
    }
   ],
   "source": [
    "# make a json request\n",
    "import json\n",
    "samples_list = image_transformed.tolist()\n",
    "json_request = json.dumps({\"instances\": samples_list}, indent=2)\n",
    "print(json_request)\n"
   ]
  }
 ],
 "metadata": {
  "kernelspec": {
   "display_name": "Python 3.9 (tensorflow)",
   "language": "python",
   "name": "tensorflow"
  },
  "language_info": {
   "codemirror_mode": {
    "name": "ipython",
    "version": 3
   },
   "file_extension": ".py",
   "mimetype": "text/x-python",
   "name": "python",
   "nbconvert_exporter": "python",
   "pygments_lexer": "ipython3",
   "version": "3.9.19"
  }
 },
 "nbformat": 4,
 "nbformat_minor": 5
}
