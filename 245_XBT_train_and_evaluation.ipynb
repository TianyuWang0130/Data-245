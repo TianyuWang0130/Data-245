{
  "cells": [
    {
      "cell_type": "markdown",
      "metadata": {
        "id": "tMce8muBqXQP"
      },
      "source": [
        "# Tensorflow with GPU\n",
        "\n",
        "This notebook provides an introduction to computing on a [GPU](https://cloud.google.com/gpu) in Colab. In this notebook you will connect to a GPU, and then run some basic TensorFlow operations on both the CPU and a GPU, observing the speedup provided by using the GPU.\n"
      ]
    },
    {
      "cell_type": "markdown",
      "source": [],
      "metadata": {
        "id": "3rvLvAgx3KLl"
      }
    },
    {
      "cell_type": "markdown",
      "metadata": {
        "id": "oM_8ELnJq_wd"
      },
      "source": [
        "## Enabling and testing the GPU\n",
        "\n",
        "First, you'll need to enable GPUs for the notebook:\n",
        "\n",
        "- Navigate to Edit→Notebook Settings\n",
        "- select GPU from the Hardware Accelerator drop-down\n",
        "\n",
        "Next, we'll confirm that we can connect to the GPU with tensorflow:"
      ]
    },
    {
      "cell_type": "code",
      "execution_count": 1,
      "metadata": {
        "colab": {
          "base_uri": "https://localhost:8080/"
        },
        "id": "sXnDmXR7RDr2",
        "outputId": "7f6aa829-e2d5-410e-8a1c-8e0ba2f49b06"
      },
      "outputs": [
        {
          "output_type": "stream",
          "name": "stdout",
          "text": [
            "Found GPU at: /device:GPU:0\n"
          ]
        }
      ],
      "source": [
        "import tensorflow as tf\n",
        "device_name = tf.test.gpu_device_name()\n",
        "if device_name != '/device:GPU:0':\n",
        "  raise SystemError('GPU device not found')\n",
        "print('Found GPU at: {}'.format(device_name))"
      ]
    },
    {
      "cell_type": "code",
      "source": [
        "from google.colab import drive\n",
        "drive.mount('/content/drive')"
      ],
      "metadata": {
        "id": "xSUaOeOiwtPH",
        "outputId": "4e99677b-3c9c-4fae-a1cc-c083e69eb2fb",
        "colab": {
          "base_uri": "https://localhost:8080/"
        }
      },
      "execution_count": 2,
      "outputs": [
        {
          "output_type": "stream",
          "name": "stdout",
          "text": [
            "Mounted at /content/drive\n"
          ]
        }
      ]
    },
    {
      "cell_type": "code",
      "source": [
        "# import numpy as np\n",
        "# labels = np.load('/content/drive/Shareddrives/Data245/Project/Dataset/labels.npy')"
      ],
      "metadata": {
        "id": "gUbVelNlT3Hp"
      },
      "execution_count": null,
      "outputs": []
    },
    {
      "cell_type": "code",
      "source": [
        "# # 获取唯一值及其数量\n",
        "# unique_values = np.unique(labels)\n",
        "# num_unique_values = len(unique_values)\n",
        "\n",
        "# print(\"Unique values in the array:\", unique_values)\n",
        "# print(\"Number of unique values:\", num_unique_values)"
      ],
      "metadata": {
        "colab": {
          "base_uri": "https://localhost:8080/"
        },
        "id": "VrnC1BphT5_j",
        "outputId": "20765b8f-ddc7-4413-baeb-1af23b897a14"
      },
      "execution_count": null,
      "outputs": [
        {
          "output_type": "stream",
          "name": "stdout",
          "text": [
            "Unique values in the array: ['!' '\"' '#' ... 'zirconia' 'zirconium-95' 'zone']\n",
            "Number of unique values: 13550\n"
          ]
        }
      ]
    },
    {
      "cell_type": "code",
      "source": [
        "# from collections import Counter\n",
        "# # Count the number of occurrences of each element\n",
        "# label_counts = Counter(labels)\n",
        "\n",
        "# # Get the top 100 elements with the most occurrences and their times\n",
        "# top_100_labels_counts = label_counts.most_common(500)\n",
        "\n",
        "# # Print results\n",
        "# for label, count in top_100_labels_counts:\n",
        "#     print(f\"Label {label} appears {count} times\")"
      ],
      "metadata": {
        "id": "Xpaj4coiUxzb"
      },
      "execution_count": null,
      "outputs": []
    },
    {
      "cell_type": "code",
      "source": [],
      "metadata": {
        "id": "SUmdIsz0U3aa"
      },
      "execution_count": null,
      "outputs": []
    },
    {
      "cell_type": "code",
      "source": [
        "# prompt: load /content/drive/Shareddrives/Data245/Project/Dataset/labels.npy\n",
        "\n",
        "import numpy as np\n",
        "features_pca = np.load('/content/drive/Shareddrives/Data245/Project/Dataset/top100_features_Proportional_pca.npy')\n",
        "labels = np.load('/content/drive/Shareddrives/Data245/Project/Dataset/top100_Labels_Proportional.npy')"
      ],
      "metadata": {
        "id": "vrNw6LJnw1gF"
      },
      "execution_count": 24,
      "outputs": []
    },
    {
      "cell_type": "code",
      "source": [
        "print(\"labels：\", labels.shape)\n",
        "print(\"features_pca：\", features_pca.shape)"
      ],
      "metadata": {
        "id": "BQAAxP1PxhhU",
        "outputId": "e9f4baaf-ccdc-45b9-9d25-f40b30ffe712",
        "colab": {
          "base_uri": "https://localhost:8080/"
        }
      },
      "execution_count": 26,
      "outputs": [
        {
          "output_type": "stream",
          "name": "stdout",
          "text": [
            "labels： (60261,)\n",
            "features_pca： (60261, 201)\n"
          ]
        }
      ]
    },
    {
      "cell_type": "code",
      "source": [
        "# # prompt: take 1000 rows from labels and features_pca\n",
        "\n",
        "# labels_1000 = labels[:100]\n",
        "# features_pca_1000 = features_pca[:100]"
      ],
      "metadata": {
        "id": "FDo3uUTZ_6_0"
      },
      "execution_count": null,
      "outputs": []
    },
    {
      "cell_type": "code",
      "source": [
        "# from sklearn.preprocessing import LabelEncoder\n",
        "# from sklearn.model_selection import train_test_split\n",
        "\n",
        "# # 创建 LabelEncoder 实例\n",
        "# label_encoder = LabelEncoder()\n",
        "\n",
        "# # 将字符串类别标签转换为整数\n",
        "# y_encoded = label_encoder.fit_transform(labels_1000)\n",
        "\n",
        "# # 将 PCA 处理后的特征赋值给 X\n",
        "# X = features_pca_1000\n",
        "\n",
        "# # 使用转换后的标签和特征进行数据集分割\n",
        "# X_train, X_test, y_train, y_test = train_test_split(X, y_encoded, test_size=0.2, random_state=42)\n"
      ],
      "metadata": {
        "id": "xM-hq_TSAIZH"
      },
      "execution_count": null,
      "outputs": []
    },
    {
      "cell_type": "code",
      "source": [
        "from sklearn.preprocessing import LabelEncoder\n",
        "from sklearn.model_selection import train_test_split\n",
        "\n",
        "# create LabelEncoder instance\n",
        "label_encoder = LabelEncoder()\n",
        "\n",
        "# Convert the string category label to an integer\n",
        "y_encoded = label_encoder.fit_transform(labels)\n",
        "\n",
        "# Assign the PCA-processed features to X\n",
        "X = features_pca\n",
        "\n",
        "# Split the dataset\n",
        "X_train, X_test, y_train, y_test = train_test_split(X, y_encoded, test_size=0.2, random_state=42)\n"
      ],
      "metadata": {
        "id": "O9XSJ8JN9kQT"
      },
      "execution_count": 27,
      "outputs": []
    },
    {
      "cell_type": "code",
      "source": [
        "print(X_train.dtype)\n",
        "print(y_train.dtype)"
      ],
      "metadata": {
        "colab": {
          "base_uri": "https://localhost:8080/"
        },
        "id": "u_VSTMWp713a",
        "outputId": "269e1802-7b68-4d3a-add4-9f5f0b2af085"
      },
      "execution_count": 13,
      "outputs": [
        {
          "output_type": "stream",
          "name": "stdout",
          "text": [
            "float64\n",
            "int64\n"
          ]
        }
      ]
    },
    {
      "cell_type": "code",
      "source": [
        "import xgboost as xgb\n",
        "from sklearn.model_selection import RandomizedSearchCV, train_test_split\n",
        "from sklearn.metrics import accuracy_score\n",
        "import time\n",
        "\n",
        "# 定义模型\n",
        "xgb_model = xgb.XGBClassifier(use_label_encoder=False, eval_metric='mlogloss',\n",
        "                              tree_method = \"hist\", device = \"cuda\")\n",
        "\n",
        "# 定义参数网格\n",
        "param_distributions = {\n",
        "    'max_depth': [3, 4, 5],\n",
        "    'learning_rate': [0.01, 0.1, 0.2],\n",
        "    'n_estimators': [50, 100, 150],\n",
        "    'subsample': [0.6, 0.8, 1.0],\n",
        "    'colsample_bytree': [0.6, 0.8, 1.0],\n",
        "}\n",
        "\n",
        "# 创建 RandomizedSearchCV 对象\n",
        "random_search = RandomizedSearchCV(estimator=xgb_model, param_distributions=param_distributions,\n",
        "                                   n_iter=10,  # 可以调整进行的随机抽样的数量\n",
        "                                   scoring='accuracy', cv=3, verbose=1, random_state=42)\n",
        "\n",
        "# 执行随机搜索\n",
        "start_time = time.time()\n",
        "random_search.fit(X_train, y_train)\n",
        "end_time = time.time()\n",
        "\n",
        "print(f\"Training started at: {datetime.datetime.fromtimestamp(start_time)}\")\n",
        "print(f\"Training ended at: {datetime.datetime.fromtimestamp(end_time)}\")\n",
        "print(f\"Training duration: {end_time - start_time} seconds\")\n",
        "\n",
        "# 打印最优参数和最高分数\n",
        "print(\"Best parameters found: \", random_search.best_params_)\n",
        "print(\"Best cross-validation score: {:.2f}\".format(random_search.best_score_))\n",
        "\n",
        "# 使用最佳参数对测试集进行评估\n",
        "best_model = random_search.best_estimator_\n",
        "predictions = best_model.predict(X_test)\n",
        "accuracy = accuracy_score(y_test, predictions)\n",
        "print(\"Accuracy on test set: {:.2f}\".format(accuracy))"
      ],
      "metadata": {
        "colab": {
          "base_uri": "https://localhost:8080/"
        },
        "id": "IsgLQNDLuxx0",
        "outputId": "9eca44c8-f298-4762-ac90-b124b1dac69b"
      },
      "execution_count": 28,
      "outputs": [
        {
          "output_type": "stream",
          "name": "stdout",
          "text": [
            "Fitting 3 folds for each of 10 candidates, totalling 30 fits\n",
            "Training started at: 2024-04-28 04:11:36.471732\n",
            "Training ended at: 2024-04-28 04:34:27.665627\n",
            "Training duration: 1371.1938955783844 seconds\n",
            "Best parameters found:  {'subsample': 1.0, 'n_estimators': 150, 'max_depth': 5, 'learning_rate': 0.1, 'colsample_bytree': 1.0}\n",
            "Best cross-validation score: 0.56\n",
            "Accuracy on test set: 0.58\n"
          ]
        }
      ]
    },
    {
      "cell_type": "code",
      "source": [
        "import xgboost as xgb\n",
        "\n",
        "# Create DMatrix data structure\n",
        "dtrain = xgb.DMatrix(X_train, label=y_train)\n",
        "dtest = xgb.DMatrix(X_test, label=y_test)\n",
        "\n",
        "# Set parameters\n",
        "params = {\n",
        "    'max_depth': 6,         # maximum depth of tree\n",
        "    'eta': 0.3,             # learning rate\n",
        "    'objective': 'multi:softmax',  # Objective function, softmax for multi-class classification\n",
        "    'num_class': len(set(y_encoded)),  # Number of categories\n",
        "    'tree_method': \"hist\", 'device' :\"cuda\"  # Histogram algorithm using GPU\n",
        "}\n",
        "\n",
        "# Number of training rounds\n",
        "num_round = 100\n",
        "\n",
        "# Training\n",
        "bst = xgb.train(params, dtrain, num_round)\n",
        "\n",
        "# Predict\n",
        "preds = bst.predict(dtest)\n",
        "\n",
        "# Evaluation\n",
        "from sklearn.metrics import accuracy_score\n",
        "accuracy = accuracy_score(y_test, preds)\n",
        "print(f\"Accuracy: {accuracy:.2f}\")\n"
      ],
      "metadata": {
        "colab": {
          "base_uri": "https://localhost:8080/"
        },
        "id": "0_34BtkEpN2Q",
        "outputId": "df65978d-c2f7-40df-9d8a-5b8eff78bf98"
      },
      "execution_count": null,
      "outputs": [
        {
          "output_type": "stream",
          "name": "stdout",
          "text": [
            "Accuracy: 0.44\n"
          ]
        }
      ]
    },
    {
      "cell_type": "code",
      "source": [
        "# 如果需要，将预测的整数标签转回原始字符串\n",
        "y_pred_labels = label_encoder.inverse_transform(y_pred.astype(int))"
      ],
      "metadata": {
        "id": "2XutRYhiEDJK"
      },
      "execution_count": null,
      "outputs": []
    }
  ],
  "metadata": {
    "colab": {
      "provenance": [],
      "gpuType": "T4"
    },
    "kernelspec": {
      "display_name": "Python 3",
      "name": "python3"
    },
    "accelerator": "GPU"
  },
  "nbformat": 4,
  "nbformat_minor": 0
}